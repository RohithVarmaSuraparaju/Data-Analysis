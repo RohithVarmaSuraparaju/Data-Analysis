{
 "cells": [
  {
   "cell_type": "code",
   "execution_count": 2,
   "id": "46ec4873-e58f-47e0-8a8e-6102e8ab5687",
   "metadata": {},
   "outputs": [],
   "source": [
    "import pandas as pd\n"
   ]
  },
  {
   "cell_type": "code",
   "execution_count": 3,
   "id": "40ad7599-0f94-4eb6-bb5c-e3408d3f7547",
   "metadata": {},
   "outputs": [],
   "source": [
    "# Load the combined data from parquet file\n",
    "combined_df = pd.read_parquet('combined_data.parquet')\n"
   ]
  },
  {
   "cell_type": "code",
   "execution_count": 4,
   "id": "f54fbf8b-e2af-4315-88a3-f7c9ec2bc9c3",
   "metadata": {},
   "outputs": [
    {
     "name": "stdout",
     "output_type": "stream",
     "text": [
      "Average number of cars per household: 3.8065579511541507\n"
     ]
    }
   ],
   "source": [
    "avg_cars_per_household = combined_df.groupby('HH_ID')['CAR_ID'].nunique().mean()\n",
    "print(\"Average number of cars per household:\", avg_cars_per_household)\n"
   ]
  },
  {
   "cell_type": "code",
   "execution_count": 5,
   "id": "0eb9bcdc-073a-4f56-823b-d22d5636162d",
   "metadata": {},
   "outputs": [
    {
     "name": "stdout",
     "output_type": "stream",
     "text": [
      "Number of cars by model year:\n",
      " Model Year\n",
      "2011    27932\n",
      "2004    27902\n",
      "2009    27851\n",
      "2017    27835\n",
      "2016    27771\n",
      "        ...  \n",
      "1992     4148\n",
      "1966     4130\n",
      "1963     4111\n",
      "1980     4100\n",
      "1974     4095\n",
      "Name: count, Length: 73, dtype: int64\n"
     ]
    }
   ],
   "source": [
    "cars_by_model_year = combined_df['Model Year'].value_counts()\n",
    "print(\"Number of cars by model year:\\n\", cars_by_model_year)\n"
   ]
  },
  {
   "cell_type": "code",
   "execution_count": 6,
   "id": "81f83ed4-a233-46c3-848d-6f621e49473d",
   "metadata": {},
   "outputs": [
    {
     "name": "stdout",
     "output_type": "stream",
     "text": [
      "Number of cars by make:\n",
      " Make\n",
      "Manufacturer2    169311\n",
      "Manufacturer1    168954\n",
      "Manufacturer3    168834\n",
      "Manufacturer6    110571\n",
      "Manufacturer7    110503\n",
      "Manufacturer4     58928\n",
      "Manufacturer5     58704\n",
      "Name: count, dtype: int64\n"
     ]
    }
   ],
   "source": [
    "cars_by_make = combined_df['Make'].value_counts()\n",
    "print(\"Number of cars by make:\\n\", cars_by_make)\n"
   ]
  },
  {
   "cell_type": "code",
   "execution_count": 7,
   "id": "2b0a92c7-b1cb-4afc-935a-fc484f49e00d",
   "metadata": {},
   "outputs": [
    {
     "name": "stdout",
     "output_type": "stream",
     "text": [
      "Safest cars count: 71918\n"
     ]
    }
   ],
   "source": [
    "# Assuming safety is defined by the 'Driver Safety Discount' and 'Vehicle Safety Discount'\n",
    "safest_cars = combined_df[(combined_df['Driver Safety Discount'] == True) & \n",
    "                          (combined_df['Vehicle Safety Discount'] == True)]\n",
    "print(\"Safest cars count:\", safest_cars.shape[0])\n"
   ]
  },
  {
   "cell_type": "code",
   "execution_count": 9,
   "id": "58059594-75db-4411-8f50-8be40efc7ed7",
   "metadata": {},
   "outputs": [
    {
     "name": "stdout",
     "output_type": "stream",
     "text": [
      "Index(['CUST_ID', 'Date of Birth', 'Marital Status', 'Employment Type',\n",
      "       'Income', 'HH_ID', 'CAR_ID', 'Active HH', 'HH Start Date',\n",
      "       'Phone Number', 'ZIP ', 'State_x', 'Country', 'Referral Source',\n",
      "       'Car ID', 'Status', 'State_y', 'Model Year', 'Make', 'Body Style',\n",
      "       'Vehicle Value', 'Annual Miles Driven', 'Business Use',\n",
      "       'Antique Vehicle', 'Lien', 'Lease', 'Driver Safety Discount',\n",
      "       'Vehicle Safety Discount', 'Claim Payout', '6 Month Premium Amount'],\n",
      "      dtype='object')\n"
     ]
    }
   ],
   "source": [
    "# Check the column names in the combined DataFrame\n",
    "print(combined_df.columns)\n"
   ]
  },
  {
   "cell_type": "code",
   "execution_count": 10,
   "id": "39c61deb-0df1-41ad-a978-db5faed4d44a",
   "metadata": {},
   "outputs": [
    {
     "name": "stdout",
     "output_type": "stream",
     "text": [
      "States with the largest households:\n",
      " State_x\n",
      "KY    10519\n",
      "SC    10453\n",
      "AK    10401\n",
      "HI    10356\n",
      "WY    10327\n",
      "CT    10326\n",
      "NE    10295\n",
      "MI    10272\n",
      "MA    10266\n",
      "AR    10207\n",
      "MN    10204\n",
      "GA    10185\n",
      "WA    10184\n",
      "AL    10175\n",
      "NY    10154\n",
      "NV    10148\n",
      "CA    10110\n",
      "MS    10061\n",
      "NJ    10058\n",
      "MO    10044\n",
      "NM    10040\n",
      "IN    10030\n",
      "MT    10029\n",
      "AZ     9988\n",
      "UT     9986\n",
      "FL     9963\n",
      "SD     9961\n",
      "OH     9945\n",
      "RI     9936\n",
      "ND     9921\n",
      "IL     9920\n",
      "MD     9911\n",
      "OR     9908\n",
      "TX     9901\n",
      "NC     9878\n",
      "IA     9855\n",
      "WV     9849\n",
      "NH     9809\n",
      "VA     9808\n",
      "LA     9802\n",
      "KS     9775\n",
      "ME     9748\n",
      "OK     9740\n",
      "DE     9712\n",
      "VT     9699\n",
      "WI     9688\n",
      "PA     9645\n",
      "TN     9633\n",
      "CO     9590\n",
      "ID     9583\n",
      "Name: CUST_ID, dtype: int64\n"
     ]
    }
   ],
   "source": [
    "# Count the number of unique customers (CUST_ID) by state and sort\n",
    "largest_households = combined_df.groupby('State_x')['CUST_ID'].nunique().sort_values(ascending=False)\n",
    "print(\"States with the largest households:\\n\", largest_households)\n"
   ]
  },
  {
   "cell_type": "code",
   "execution_count": 11,
   "id": "7e91b1a0-f79b-4db7-94d4-cfdbcf0d14fe",
   "metadata": {},
   "outputs": [
    {
     "name": "stdout",
     "output_type": "stream",
     "text": [
      "Number of active households as of 1/1/2021: 54344\n"
     ]
    }
   ],
   "source": [
    "# Count active households as of January 1, 2021\n",
    "active_households = combined_df[combined_df['HH Start Date'] <= '2021-01-01']['HH_ID'].nunique()\n",
    "print(\"Number of active households as of 1/1/2021:\", active_households)\n"
   ]
  },
  {
   "cell_type": "code",
   "execution_count": 12,
   "id": "5e3b7700-70f0-447c-a717-9712287bf3ae",
   "metadata": {},
   "outputs": [
    {
     "name": "stdout",
     "output_type": "stream",
     "text": [
      "Average age of customers: 6.673170529850261\n"
     ]
    }
   ],
   "source": [
    "# Calculate the average age of customers\n",
    "combined_df['Age'] = (pd.Timestamp('now') - combined_df['Date of Birth']).dt.days // 365\n",
    "avg_age = combined_df['Age'].mean()\n",
    "print(\"Average age of customers:\", avg_age)\n"
   ]
  },
  {
   "cell_type": "code",
   "execution_count": 15,
   "id": "c1efd499-699f-497d-b98e-673168089b8d",
   "metadata": {},
   "outputs": [
    {
     "name": "stdout",
     "output_type": "stream",
     "text": [
      "Age variation by state:\n",
      " State_x\n",
      "AK    29.412447\n",
      "AL    29.528914\n",
      "AR    29.606095\n",
      "AZ    29.485062\n",
      "CA    29.204428\n",
      "CO    29.837777\n",
      "CT    29.303955\n",
      "DE    29.397503\n",
      "FL    29.324556\n",
      "GA    29.306956\n",
      "HI    29.473650\n",
      "IA    29.469966\n",
      "ID    29.576723\n",
      "IL    29.631817\n",
      "IN    29.540904\n",
      "KS    29.568169\n",
      "KY    29.272318\n",
      "LA    29.406784\n",
      "MA    29.357136\n",
      "MD    29.415131\n",
      "ME    29.441578\n",
      "MI    29.628494\n",
      "MN    29.425995\n",
      "MO    29.238599\n",
      "MS    29.736648\n",
      "MT    29.495037\n",
      "NC    29.388942\n",
      "ND    29.357092\n",
      "NE    29.365754\n",
      "NH    29.419523\n",
      "NJ    29.421301\n",
      "NM    29.512413\n",
      "NV    29.511876\n",
      "NY    29.421128\n",
      "OH    29.439442\n",
      "OK    29.339468\n",
      "OR    29.369126\n",
      "PA    29.283669\n",
      "RI    29.601361\n",
      "SC    29.383838\n",
      "SD    29.303073\n",
      "TN    29.466235\n",
      "TX    29.281396\n",
      "UT    29.656893\n",
      "VA    29.585059\n",
      "VT    29.588658\n",
      "WA    29.171349\n",
      "WI    29.512184\n",
      "WV    29.223402\n",
      "WY    29.245575\n",
      "Name: Age, dtype: float64\n"
     ]
    }
   ],
   "source": [
    "# Calculate age variation by state\n",
    "age_variation_by_state = combined_df.groupby('State_x')['Age'].std()\n",
    "print(\"Age variation by state:\\n\", age_variation_by_state)\n"
   ]
  },
  {
   "cell_type": "code",
   "execution_count": 16,
   "id": "0482aebf-5cd9-43eb-94d5-ae75ea88c8ff",
   "metadata": {},
   "outputs": [
    {
     "name": "stdout",
     "output_type": "stream",
     "text": [
      "Age group with the most expensive claims:\n",
      " Age\n",
      "19-35     314048598\n",
      "36-50     195039309\n",
      "0-18       62944899\n",
      "51-65             0\n",
      "66-100            0\n",
      "Name: Claim Payout, dtype: int64\n"
     ]
    }
   ],
   "source": [
    "# Define age groups and calculate the most expensive claims by age group\n",
    "age_groups = pd.cut(combined_df['Age'], bins=[0, 18, 35, 50, 65, 100], \n",
    "                    labels=['0-18', '19-35', '36-50', '51-65', '66-100'])\n",
    "most_expensive_claims = combined_df.groupby(age_groups)['Claim Payout'].sum().sort_values(ascending=False)\n",
    "print(\"Age group with the most expensive claims:\\n\", most_expensive_claims)\n"
   ]
  },
  {
   "cell_type": "code",
   "execution_count": null,
   "id": "72afd5c3-7cc7-4f6a-bf9e-be60f48f8998",
   "metadata": {},
   "outputs": [],
   "source": [
    "# Data Analysis\n",
    "\n",
    "This notebook contains the analysis of the combined dataset created from the three input CSV files. \n",
    "\n",
    "### Average Number of Cars per Household\n",
    "The average number of cars per household was calculated to assess vehicle ownership distribution.\n",
    "\n",
    "### Count of Cars by Model Year\n",
    "This analysis provides insights into the age distribution of cars within the dataset.\n",
    "\n",
    "### Count of Cars by Make\n",
    "Understanding the distribution of car makes can inform inventory and marketing strategies.\n",
    "\n",
    "### Safest Cars\n",
    "We identified the safest cars based on specific discount criteria, indicating their safety ratings.\n",
    "\n",
    "### States with Largest Households\n",
    "This analysis reveals geographical trends in household sizes.\n",
    "\n",
    "### Active Households as of 1/1/2021\n",
    "Understanding the count of active households helps in assessing market stability.\n",
    "\n",
    "### Average Age of Customers\n",
    "The average age calculation provides demographic insights into the customer base.\n",
    "\n",
    "### Age Variation by Region\n",
    "This metric helps in understanding the demographic diversity across regions.\n",
    "\n",
    "### Age Group with the Most Expensive Claims\n",
    "This analysis identifies which age group incurs the highest claims, useful for risk assessment.\n",
    "\n"
   ]
  }
 ],
 "metadata": {
  "kernelspec": {
   "display_name": "Python 3 (ipykernel)",
   "language": "python",
   "name": "python3"
  },
  "language_info": {
   "codemirror_mode": {
    "name": "ipython",
    "version": 3
   },
   "file_extension": ".py",
   "mimetype": "text/x-python",
   "name": "python",
   "nbconvert_exporter": "python",
   "pygments_lexer": "ipython3",
   "version": "3.11.6"
  }
 },
 "nbformat": 4,
 "nbformat_minor": 5
}
